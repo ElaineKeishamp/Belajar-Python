{
 "cells": [
  {
   "cell_type": "code",
   "execution_count": 2,
   "metadata": {},
   "outputs": [
    {
     "name": "stdout",
     "output_type": "stream",
     "text": [
      "Hello World!\n"
     ]
    }
   ],
   "source": [
    "print(\"Hello World!\")"
   ]
  },
  {
   "cell_type": "code",
   "execution_count": 3,
   "metadata": {},
   "outputs": [
    {
     "name": "stdout",
     "output_type": "stream",
     "text": [
      "saya baru belajar python\n"
     ]
    }
   ],
   "source": [
    "print(\"saya baru belajar python\")"
   ]
  },
  {
   "cell_type": "code",
   "execution_count": 2,
   "metadata": {},
   "outputs": [
    {
     "name": "stdout",
     "output_type": "stream",
     "text": [
      "saya mengatakan \"oke,bagus!\"\n"
     ]
    }
   ],
   "source": [
    "print('saya mengatakan \"oke,bagus!\"')"
   ]
  },
  {
   "cell_type": "code",
   "execution_count": 3,
   "metadata": {},
   "outputs": [
    {
     "name": "stdout",
     "output_type": "stream",
     "text": [
      "papa\n",
      "mama\n"
     ]
    }
   ],
   "source": [
    "print(\"papa\\nmama\")"
   ]
  },
  {
   "cell_type": "code",
   "execution_count": 6,
   "metadata": {},
   "outputs": [
    {
     "name": "stdout",
     "output_type": "stream",
     "text": [
      "<class 'str'>\n"
     ]
    }
   ],
   "source": [
    "text = \"String\"\n",
    "print(type(text))"
   ]
  },
  {
   "cell_type": "code",
   "execution_count": 7,
   "metadata": {},
   "outputs": [
    {
     "name": "stdout",
     "output_type": "stream",
     "text": [
      "2\n",
      "2\n",
      "<class 'str'>\n",
      "<class 'int'>\n"
     ]
    }
   ],
   "source": [
    "print(2)\n",
    "print(\"2\")\n",
    "\n",
    "print(type(\"2\"))\n",
    "print(type(2))"
   ]
  },
  {
   "cell_type": "code",
   "execution_count": 8,
   "metadata": {},
   "outputs": [
    {
     "name": "stdout",
     "output_type": "stream",
     "text": [
      "5 mempunyai tipe <class 'int'>\n",
      "5.0 mempunyai tipe <class 'float'>\n"
     ]
    }
   ],
   "source": [
    "print(5,\"mempunyai tipe\", type (5))\n",
    "print(5.0, \"mempunyai tipe\", type(5.0))"
   ]
  },
  {
   "cell_type": "code",
   "execution_count": 9,
   "metadata": {},
   "outputs": [
    {
     "name": "stdout",
     "output_type": "stream",
     "text": [
      "True\n",
      "False\n"
     ]
    }
   ],
   "source": [
    "print(3>0)\n",
    "print(0>3)"
   ]
  },
  {
   "cell_type": "code",
   "execution_count": 10,
   "metadata": {},
   "outputs": [
    {
     "name": "stdout",
     "output_type": "stream",
     "text": [
      "1\n"
     ]
    }
   ],
   "source": [
    "var = 1\n",
    "print(var)"
   ]
  },
  {
   "cell_type": "code",
   "execution_count": 11,
   "metadata": {},
   "outputs": [
    {
     "name": "stdout",
     "output_type": "stream",
     "text": [
      "False\n",
      "True\n"
     ]
    }
   ],
   "source": [
    "print(1/19>3/33)\n",
    "print(3/33>1/19)"
   ]
  },
  {
   "cell_type": "code",
   "execution_count": 5,
   "metadata": {},
   "outputs": [
    {
     "name": "stdout",
     "output_type": "stream",
     "text": [
      "20579: sisa pembagian 3 = 2, sisa pembagian 5 = 4\n",
      "15223: sisa pembagian 3 = 1, sisa pembagian 5 = 3\n",
      "13689: sisa pembagian 3 = 0, sisa pembagian 5 = 4\n",
      "\n",
      "13689 habis di bagi 3 tapi tidak habis di bagi 5\n",
      "\n",
      "14670: sisa pembagian 3 = 0, sisa pembagian 5 = 0\n",
      "12345: sisa pembagian 3 = 0, sisa pembagian 5 = 0\n"
     ]
    }
   ],
   "source": [
    "number = {12345, 13689, 14670, 15223, 20579}\n",
    "\n",
    "for i in number:\n",
    "    mod_3 = i % 3\n",
    "    mod_5 = i % 5\n",
    "    print(f'{i}: sisa pembagian 3 = {mod_3}, sisa pembagian 5 = {mod_5}')\n",
    "    if mod_3 == 0 and mod_5 != 0:\n",
    "        print(f'\\n{i} habis di bagi 3 tapi tidak habis di bagi 5\\n')"
   ]
  },
  {
   "cell_type": "code",
   "execution_count": null,
   "metadata": {},
   "outputs": [],
   "source": []
  },
  {
   "cell_type": "code",
   "execution_count": 1,
   "metadata": {},
   "outputs": [
    {
     "name": "stdout",
     "output_type": "stream",
     "text": [
      "1233: sisa pembagian 3 = 0, sisa pembagian 4 = 1\n",
      "\n",
      "1233 habis di bagi 3 tapi tidak habis dibagi 4\n",
      "\n",
      "1426: sisa pembagian 3 = 1, sisa pembagian 4 = 2\n",
      "585: sisa pembagian 3 = 0, sisa pembagian 4 = 1\n",
      "\n",
      "585 habis di bagi 3 tapi tidak habis dibagi 4\n",
      "\n",
      "1179: sisa pembagian 3 = 0, sisa pembagian 4 = 3\n",
      "\n",
      "1179 habis di bagi 3 tapi tidak habis dibagi 4\n",
      "\n",
      "477: sisa pembagian 3 = 0, sisa pembagian 4 = 1\n",
      "\n",
      "477 habis di bagi 3 tapi tidak habis dibagi 4\n",
      "\n"
     ]
    }
   ],
   "source": [
    "number = {477, 585, 1179, 1233, 1426}\n",
    "\n",
    "for i in number:\n",
    "    mod_3 = i % 3\n",
    "    mod_4 = i % 4\n",
    "    print(f'{i}: sisa pembagian 3 = {mod_3}, sisa pembagian 4 = {mod_4}')\n",
    "    if mod_3 == 0 and mod_4 != 0:\n",
    "        print(f'\\n{i} habis di bagi 3 tapi tidak habis dibagi 4\\n')"
   ]
  }
 ],
 "metadata": {
  "kernelspec": {
   "display_name": "Python 3",
   "language": "python",
   "name": "python3"
  },
  "language_info": {
   "codemirror_mode": {
    "name": "ipython",
    "version": 3
   },
   "file_extension": ".py",
   "mimetype": "text/x-python",
   "name": "python",
   "nbconvert_exporter": "python",
   "pygments_lexer": "ipython3",
   "version": "3.12.5"
  }
 },
 "nbformat": 4,
 "nbformat_minor": 2
}
